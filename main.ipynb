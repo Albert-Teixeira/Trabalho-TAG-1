{
 "cells": [
  {
   "cell_type": "code",
   "execution_count": 6,
   "id": "97086160",
   "metadata": {},
   "outputs": [
    {
     "name": "stdout",
     "output_type": "stream",
     "text": [
      "Nós: 81306\n",
      "Arestas: 1768149\n"
     ]
    }
   ],
   "source": [
    "from src.build_graph import build_graph_from_txt\n",
    "\n",
    "G = build_graph_from_txt(\"data/twitter_combined.txt\")\n",
    "print(\"Nós:\", G.number_of_nodes())\n",
    "print(\"Arestas:\", G.number_of_edges())"
   ]
  },
  {
   "cell_type": "code",
   "execution_count": null,
   "id": "9563b3e8",
   "metadata": {},
   "outputs": [],
   "source": [
    "from src.analysis import calcular_pagerank, calcular_centralidades, detectar_comunidades_louvain\n",
    "\n",
    "# Calcular PageRank\n",
    "pagerank = calcular_pagerank(G)\n",
    "print(\"Top 5 nós por PageRank:\")\n",
    "for node, score in sorted(pagerank.items(), key=lambda x: x[1], reverse=True)[:5]:\n",
    "    print(f\"{node}: {score:.4f}\")\n",
    "\n",
    "# Calcular centralidades\n",
    "centralidades = calcular_centralidades(G)\n",
    "print(\"Top 1 em centralidade de grau:\", max(centralidades[\"grau\"], key=centralidades[\"grau\"].get))\n",
    "\n",
    "# Comunidades Louvain\n",
    "particoes = detectar_comunidades_louvain(G)\n",
    "print(\"Número de comunidades detectadas:\", len(set(particoes.values())))"
   ]
  },
  {
   "cell_type": "code",
   "execution_count": null,
   "id": "53813861",
   "metadata": {},
   "outputs": [],
   "source": [
    "from src.visualize import plot_grafo_basico\n",
    "\n",
    "plot_grafo_basico(G)  # Mostra primeiros 200 nós"
   ]
  },
  {
   "cell_type": "code",
   "execution_count": 7,
   "id": "89fe8eb6",
   "metadata": {},
   "outputs": [
    {
     "name": "stdout",
     "output_type": "stream",
     "text": [
      "Grafo exportado para: grafo_para_gephi.gexf\n"
     ]
    }
   ],
   "source": [
    "from src.visualize import exportar_para_gephi\n",
    "\n",
    "exportar_para_gephi(G)"
   ]
  }
 ],
 "metadata": {
  "kernelspec": {
   "display_name": "Python 3",
   "language": "python",
   "name": "python3"
  },
  "language_info": {
   "codemirror_mode": {
    "name": "ipython",
    "version": 3
   },
   "file_extension": ".py",
   "mimetype": "text/x-python",
   "name": "python",
   "nbconvert_exporter": "python",
   "pygments_lexer": "ipython3",
   "version": "3.12.9"
  }
 },
 "nbformat": 4,
 "nbformat_minor": 5
}
