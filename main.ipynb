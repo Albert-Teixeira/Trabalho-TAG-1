{
 "cells": [
  {
   "cell_type": "code",
   "execution_count": null,
   "id": "97086160",
   "metadata": {},
   "outputs": [
    {
     "name": "stdout",
     "output_type": "stream",
     "text": [
      "Nós: 81306\n",
      "Arestas: 1768149\n"
     ]
    }
   ],
   "source": [
    "from src.build_graph import build_graph_from_txt\n",
    "\n",
    "G = build_graph_from_txt(\"data/twitter_combined.txt\")\n",
    "print(\"Nós:\", G.number_of_nodes())\n",
    "print(\"Arestas:\", G.number_of_edges())\n",
    "\n",
    "# Constroí o grafo e exibe o número de nós e arestas dele"
   ]
  },
  {
   "cell_type": "code",
   "execution_count": null,
   "id": "9563b3e8",
   "metadata": {},
   "outputs": [
    {
     "name": "stdout",
     "output_type": "stream",
     "text": [
      "Top 5 nós por PageRank:\n",
      "115485051: 0.0061\n",
      "116485573: 0.0051\n",
      "813286: 0.0027\n",
      "40981798: 0.0025\n",
      "7861312: 0.0021\n"
     ]
    }
   ],
   "source": [
    "from src.analysis import calcular_pagerank\n",
    "\n",
    "# Calcular PageRank\n",
    "pagerank = calcular_pagerank(G)\n",
    "print(\"Top 5 nós por PageRank:\")\n",
    "for node, score in sorted(pagerank.items(), key=lambda x: x[1], reverse=True)[:5]:\n",
    "    print(f\"{node}: {score:.4f}\")\n",
    "    \n",
    "# Avalia a importância dos nós com base em quantos outros nós importantes apontam para ele\n",
    "# No contexto do Twitter, mede a \"influência de usuários com base nas iterações recebidas\"\n",
    "# Estranhamente extremamente rápido \n",
    "\n",
    "# O score se trata de um valor númerico entre 0 e 1, normalmente com 4 ou 5 casas decimais, que representa\n",
    "# a probabilidade de estar nesse nó em uma caminha aleatória\n",
    "# (A soma de todos os scores do grafo dá 1)"
   ]
  },
  {
   "cell_type": "code",
   "execution_count": null,
   "id": "f30429ba",
   "metadata": {},
   "outputs": [],
   "source": [
    "from src.analysis import calcular_centralidades\n",
    "\n",
    "# Calcular centralidades\n",
    "centralidades = calcular_centralidades(G)\n",
    "print(\"Top 1 em centralidade de grau:\", max(centralidades[\"grau\"], key=centralidades[\"grau\"].get))\n",
    "\n",
    "# - Grau: Usuários que mais interagem ou são mencionados\n",
    "# - Intermediação: Conectam diferentes comunidades (pontes)\n",
    "# - Proximidade: Espalham informações rapidamente "
   ]
  },
  {
   "cell_type": "code",
   "execution_count": null,
   "id": "60873462",
   "metadata": {},
   "outputs": [
    {
     "name": "stdout",
     "output_type": "stream",
     "text": [
      "Número de comunidades detectadas: 65\n"
     ]
    }
   ],
   "source": [
    "from src.analysis import detectar_comunidades_louvain\n",
    "\n",
    "# Comunidades Louvain\n",
    "particoes = detectar_comunidades_louvain(G)\n",
    "print(\"Número de comunidades detectadas:\", len(set(particoes.values())))\n",
    "\n",
    "#Algoritmo que encontra grupos de usuários com alta conexão interna.\n",
    "#Ajuda a identificar \"bolhas de desinformação ou câmaras de eco\""
   ]
  },
  {
   "cell_type": "code",
   "execution_count": null,
   "id": "53813861",
   "metadata": {},
   "outputs": [],
   "source": [
    "from src.visualize import plot_grafo_basico\n",
    "\n",
    "plot_grafo_basico(G)  # Mostra primeiros 200 nós"
   ]
  },
  {
   "cell_type": "code",
   "execution_count": null,
   "id": "89fe8eb6",
   "metadata": {},
   "outputs": [],
   "source": [
    "from src.visualize import exportar_para_gephi\n",
    "\n",
    "exportar_para_gephi(G)"
   ]
  }
 ],
 "metadata": {
  "kernelspec": {
   "display_name": "Python 3",
   "language": "python",
   "name": "python3"
  },
  "language_info": {
   "codemirror_mode": {
    "name": "ipython",
    "version": 3
   },
   "file_extension": ".py",
   "mimetype": "text/x-python",
   "name": "python",
   "nbconvert_exporter": "python",
   "pygments_lexer": "ipython3",
   "version": "3.13.3"
  }
 },
 "nbformat": 4,
 "nbformat_minor": 5
}
