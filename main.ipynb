{
 "cells": [
  {
   "cell_type": "code",
   "execution_count": null,
   "id": "849d9a6f",
   "metadata": {
    "vscode": {
     "languageId": "plaintext"
    }
   },
   "outputs": [],
   "source": [
    "from src.build_graph import load_graph_from_edges\n",
    "\n",
    "# Caminho para o grafo principal\n",
    "graph_path = \"data/twitter/twitter_combined.txt\"\n",
    "\n",
    "G = load_graph_from_edges(graph_path)\n",
    "\n",
    "print(f\"Nós: {G.number_of_nodes()}\")\n",
    "print(f\"Arestas: {G.number_of_edges()}\")"
   ]
  }
 ],
 "metadata": {
  "language_info": {
   "name": "python"
  }
 },
 "nbformat": 4,
 "nbformat_minor": 5
}
